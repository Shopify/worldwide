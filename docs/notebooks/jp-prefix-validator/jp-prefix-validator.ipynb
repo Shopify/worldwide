{
 "cells": [
  {
   "cell_type": "code",
   "execution_count": null,
   "id": "f265101a",
   "metadata": {},
   "outputs": [],
   "source": [
    "!pip install pandas\n",
    "!pip install dotenv\n",
    "%pip install PyYAML\n"
   ]
  },
  {
   "cell_type": "code",
   "execution_count": null,
   "id": "582684e3",
   "metadata": {},
   "outputs": [],
   "source": [
    "# load csv\n",
    "import pandas as pd\n",
    "\n",
    "# Load the CSV file\n",
    "df = pd.read_csv('data.csv')\n",
    "\n",
    "# drop null values in shipping_postal_code and shipping_province\n",
    "df = df.dropna()\n",
    "print(f\"DataFrame shape after dropping null values: {df.shape}\")"
   ]
  },
  {
   "cell_type": "code",
   "execution_count": null,
   "id": "1f2dae86",
   "metadata": {},
   "outputs": [],
   "source": [
    "# import the YAML file with zip prefixes\n",
    "from dotenv import load_dotenv\n",
    "import os\n",
    "from pprint import pprint\n",
    "\n",
    "load_dotenv()\n",
    "\n",
    "# load the YAML file\n",
    "import yaml\n",
    "\n",
    "with open(os.getenv('PATH_TO_YAML') or \"zip_prefixes.yaml\", 'r') as file:\n",
    "    zip_prefixes = yaml.safe_load(file)\n",
    "\n",
    "pprint(zip_prefixes)"
   ]
  },
  {
   "cell_type": "code",
   "execution_count": null,
   "id": "428326c7",
   "metadata": {},
   "outputs": [],
   "source": [
    "# map zone names to zone codes\n",
    "name_to_code = {}\n",
    "for zone in zip_prefixes[\"zones\"]:\n",
    "    name_to_code[zone[\"name\"]] = zone[\"code\"]\n",
    "    for n in zone[\"name_alternates\"]:\n",
    "        name_to_code[n] = zone[\"code\"]\n",
    "\n",
    "pprint(name_to_code)"
   ]
  },
  {
   "cell_type": "code",
   "execution_count": null,
   "id": "0a8271d9",
   "metadata": {},
   "outputs": [],
   "source": [
    "# map zone codes to allowed prefixes\n",
    "allowed_prefixes_for_zone_code = {}\n",
    "for zone in zip_prefixes[\"zones\"]:\n",
    "    allowed_prefixes_for_zone_code[zone[\"code\"]] = set(zone[\"zip_prefixes\"])"
   ]
  },
  {
   "cell_type": "code",
   "execution_count": null,
   "id": "6af2975c",
   "metadata": {},
   "outputs": [],
   "source": [
    "import re\n",
    "from collections import defaultdict\n",
    "# get data rows from pandas df\n",
    "rows = []\n",
    "unmapped_cities = defaultdict(int)\n",
    "\n",
    "for _, row in df.iterrows():\n",
    "    if row[\"shipping_province\"] not in name_to_code:\n",
    "        unmapped_cities[row[\"shipping_province\"]] += 1\n",
    "        continue\n",
    "    zone_code, postal_code = name_to_code[row[\"shipping_province\"]], row[\"shipping_postal_code\"]\n",
    "    if not isinstance(postal_code, str):\n",
    "        continue\n",
    "    rows.append({\n",
    "        \"zone_code\": zone_code,\n",
    "        \"postal_code\": postal_code,\n",
    "    })\n",
    "\n",
    "regexp = \"^[0-9]{3}-[0-9]{4}$\"\n",
    "rows = list(filter(lambda x: re.match(regexp, x[\"postal_code\"]), rows)) # filter out rows that don't match the format\n",
    "print(\"Total rows: \", len(rows))\n",
    "rows"
   ]
  },
  {
   "cell_type": "code",
   "execution_count": null,
   "id": "244766db",
   "metadata": {},
   "outputs": [],
   "source": [
    "#validate the zip prefixes\n",
    "invalid_prefixes = defaultdict(list)\n",
    "for row in rows:\n",
    "    zone_code, postal_code = row[\"zone_code\"], row[\"postal_code\"]\n",
    "    zone_prefixes = allowed_prefixes_for_zone_code[zone_code]\n",
    "    match = False\n",
    "    for i in range(len(postal_code)):\n",
    "        if postal_code[:i] in zone_prefixes:\n",
    "            match = True\n",
    "            continue\n",
    "    if not match:\n",
    "        invalid_prefixes[zone_code].append(postal_code)\n",
    "\n",
    "print(\"Total rows: \", len(rows))\n",
    "print(\"Total invalid prefixes: \", sum(len(v) for v in invalid_prefixes.values()))\n",
    "print(\"Total unique invalid prefixes: \", len(set(sum(invalid_prefixes.values(), []))))\n",
    "print(\"Percentage of invalid prefixes: \", sum(len(v) for v in invalid_prefixes.values()) / len(rows))\n",
    "\n",
    "invalid_prefixes\n"
   ]
  }
 ],
 "metadata": {
  "kernelspec": {
   "display_name": "venv",
   "language": "python",
   "name": "python3"
  },
  "language_info": {
   "codemirror_mode": {
    "name": "ipython",
    "version": 3
   },
   "file_extension": ".py",
   "mimetype": "text/x-python",
   "name": "python",
   "nbconvert_exporter": "python",
   "pygments_lexer": "ipython3",
   "version": "3.9.6"
  }
 },
 "nbformat": 4,
 "nbformat_minor": 5
}
